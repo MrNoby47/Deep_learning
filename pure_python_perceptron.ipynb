{
  "nbformat": 4,
  "nbformat_minor": 0,
  "metadata": {
    "colab": {
      "provenance": [],
      "authorship_tag": "ABX9TyPeryGF1ddR22PCP84k7Kgm",
      "include_colab_link": true
    },
    "kernelspec": {
      "name": "python3",
      "display_name": "Python 3"
    },
    "language_info": {
      "name": "python"
    }
  },
  "cells": [
    {
      "cell_type": "markdown",
      "metadata": {
        "id": "view-in-github",
        "colab_type": "text"
      },
      "source": [
        "<a href=\"https://colab.research.google.com/github/MrNoby47/Deep_learning/blob/main/pure_python_perceptron.ipynb\" target=\"_parent\"><img src=\"https://colab.research.google.com/assets/colab-badge.svg\" alt=\"Open In Colab\"/></a>"
      ]
    },
    {
      "cell_type": "code",
      "execution_count": null,
      "metadata": {
        "id": "2fmqo8zRVDN3"
      },
      "outputs": [],
      "source": [
        "import numpy as np\n",
        "import keras\n",
        "from keras.models import Sequential\n",
        "from tensorflow.keras.layers import Dense\n",
        "from tensorflow.keras.optimizers import Adam\n",
        "import matplotlib.pyplot as plt\n",
        "\n",
        "\n",
        "def draw(ax1,ax2):\n",
        "    line = plt.plot(ax1,ax2,'-')\n",
        "    plt.pause(0.00001)\n",
        "    line[0].remove()\n",
        "\n",
        "def sigmoid(score):\n",
        "    return 1/(1 + np.exp(-score) )\n",
        "\n",
        "def calculate_error(line_parameters,points, y):\n",
        "    m = points.shape[0]\n",
        "    p = sigmoid(points*line_parameters)\n",
        "    cross_entropy = -(1/m)*(np.log(p).T*y + np.log(1-p).T*(1-y))\n",
        "    return cross_entropy\n",
        "\n",
        "def gradient_descent(line_parameters,points, y, alpha):\n",
        "    m = points.shape[0]\n",
        "    for i  in range(20000):\n",
        "        p = sigmoid(points*line_parameters)\n",
        "        gradient = (points.T*(p-y))*(alpha/m)\n",
        "        line_parameters = line_parameters - gradient\n",
        "        w1 = line_parameters.item(0)\n",
        "        w2 = line_parameters.item(1)\n",
        "        b = line_parameters.item(2)\n",
        "        x1 = np.array([points[:,0].min(),points[:,0].max() ])\n",
        "        x2 = -b/w2 + x1*(-w1/w2)\n",
        "        draw(x1,x2)\n",
        "        print(calculate_error(line_parameters, points,y))\n",
        "\n",
        "\n",
        "nb_pts = 100\n",
        "np.random.seed(0)\n",
        "bias = np.ones(nb_pts)\n",
        "top_region = np.array([np.random.normal(10,2,nb_pts),np.random.normal(12,2,nb_pts),bias]).T\n",
        "bottom_region = np.array([np.random.normal(5,2,nb_pts),np.random.normal(6,2,nb_pts),bias]).transpose()\n",
        "all_points = np.vstack((top_region,bottom_region))#stack top_region array vertically on top of bottom region array\n",
        "line_parameters = np.matrix([np.zeros(3)]).T # define our line parameters weights and bias\n",
        "linear_combination = all_points*line_parameters\n",
        "probabilities = sigmoid(linear_combination)\n",
        "y = np.array([np.zeros(nb_pts), np.ones(nb_pts)]).reshape(nb_pts*2,1)\n",
        "\n",
        "_,ax =plt.subplots(figsize=(4,4))\n",
        "ax.scatter(top_region[:,0],top_region[:,1],color='r')\n",
        "ax.scatter(bottom_region[:,0], bottom_region[:,1], color='b')\n",
        "gradient_descent(line_parameters, all_points, y , 0.06)\n",
        "plt.show()\n"
      ]
    }
  ]
}