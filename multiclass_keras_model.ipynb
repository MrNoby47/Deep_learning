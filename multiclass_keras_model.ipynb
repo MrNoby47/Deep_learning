{
  "nbformat": 4,
  "nbformat_minor": 0,
  "metadata": {
    "colab": {
      "provenance": [],
      "authorship_tag": "ABX9TyPK4nGf9k9R4UTFiPcIgIAL",
      "include_colab_link": true
    },
    "kernelspec": {
      "name": "python3",
      "display_name": "Python 3"
    },
    "language_info": {
      "name": "python"
    }
  },
  "cells": [
    {
      "cell_type": "markdown",
      "metadata": {
        "id": "view-in-github",
        "colab_type": "text"
      },
      "source": [
        "<a href=\"https://colab.research.google.com/github/MrNoby47/Deep_learning/blob/main/multiclass_keras_model.ipynb\" target=\"_parent\"><img src=\"https://colab.research.google.com/assets/colab-badge.svg\" alt=\"Open In Colab\"/></a>"
      ]
    },
    {
      "cell_type": "code",
      "execution_count": 8,
      "metadata": {
        "id": "etv6mFPzORHE"
      },
      "outputs": [],
      "source": [
        "import numpy as np\n",
        "import matplotlib.pyplot as plt\n",
        "from sklearn import datasets\n",
        "import keras\n",
        "from keras.models import Sequential\n",
        "from keras.layers import Dense\n",
        "from keras.optimizers import Adam\n",
        "from keras.utils.np_utils  import to_categorical"
      ]
    },
    {
      "cell_type": "code",
      "source": [
        "nb_pts = 1500\n",
        "centers = [[-1,1],[-1,-1],[1,-1],[0,0], [2,1]]\n",
        "X,y = datasets.make_blobs(n_samples=nb_pts, random_state=123, centers=centers, cluster_std=0.4)\n",
        "plt.scatter(X[y==0,0],X[y==0,1])\n",
        "plt.scatter(X[y==1,0],X[y==1, 1])\n",
        "plt.scatter(X[y==2, 0], X[y==2, 1])\n",
        "plt.scatter(X[y==3,0],X[y==3, 1])\n",
        "plt.scatter(X[y==4, 0], X[y==4, 1])"
      ],
      "metadata": {
        "id": "R3zcgCKuOkgZ"
      },
      "execution_count": null,
      "outputs": []
    },
    {
      "cell_type": "code",
      "source": [
        "y_cat = to_categorical(y,5)\n",
        "model = Sequential()\n",
        "model.add(Dense(units=5, input_shape=(2,) , activation=\"softmax\"))\n",
        "model.compile(Adam(lr=0.06), loss='categorical_crossentropy', metrics=['accuracy'])\n",
        "h = model.fit(x=X,y=y_cat,verbose=1, batch_size=50, epochs=100,shuffle='true')"
      ],
      "metadata": {
        "id": "Q7HwLP5qP6Xw"
      },
      "execution_count": null,
      "outputs": []
    },
    {
      "cell_type": "code",
      "source": [
        "def plot_boundaries(X,y_cat,model):\n",
        "    x_span = np.linspace(min(X[:,0]) - 1 ,max(X[:,0])+ 1.5)\n",
        "    y_span = np.linspace(min(X[:,1]) - 1, max(X[:,1]) + 1.5)\n",
        "    xx, yy = np.meshgrid(x_span,y_span)\n",
        "    xx_,yy_ = xx.ravel(), yy.ravel()\n",
        "    grid = np.c_[xx_,yy_]\n",
        "    #instead of using model.predict() we gonna use model.predict_classes()\n",
        "    predictions = model.predict(grid)\n",
        "    classes_x=np.argmax(predictions,axis=1)\n",
        "    z = classes_x.reshape(xx.shape)\n",
        "    plt.contourf(xx,yy,z)"
      ],
      "metadata": {
        "id": "xYFuZfCBSQSg"
      },
      "execution_count": 68,
      "outputs": []
    },
    {
      "cell_type": "code",
      "source": [
        "plot_boundaries(X, y_cat,model)\n",
        "plt.scatter(X[y==0,0],X[y==0,1])\n",
        "plt.scatter(X[y==1,0],X[y==1, 1])\n",
        "plt.scatter(X[y==2, 0], X[y==2, 1])\n",
        "plt.scatter(X[y==3,0],X[y==3, 1])\n",
        "plt.scatter(X[y==4, 0], X[y==4, 1])"
      ],
      "metadata": {
        "id": "LSIfIa7eW0uS"
      },
      "execution_count": null,
      "outputs": []
    },
    {
      "cell_type": "code",
      "source": [],
      "metadata": {
        "id": "NY1UdLFkXFOw"
      },
      "execution_count": 64,
      "outputs": []
    }
  ]
}